{
 "cells": [
  {
   "cell_type": "code",
   "execution_count": 1,
   "id": "0024265e-7e27-4d7e-b526-2f356bb42445",
   "metadata": {},
   "outputs": [],
   "source": [
    "from instagramy.plugins.analysis import analyze_users_popularity\n",
    "from instagramy import InstagramUser\n",
    "from instagramy import InstagramPost\n",
    "import matplotlib.pyplot as plt\n",
    "from textblob import TextBlob\n",
    "from datetime import datetime\n",
    "import pandas as pd\n",
    "import numpy as np"
   ]
  },
  {
   "cell_type": "code",
   "execution_count": 2,
   "id": "fdba4762-a2fb-4824-a919-696578fe32b5",
   "metadata": {},
   "outputs": [],
   "source": [
    "# Agregar session_id\n",
    "session_id =\"48844897807%3Ap4qt5sW5z9g0kU%3A8\""
   ]
  },
  {
   "cell_type": "code",
   "execution_count": 3,
   "id": "604c6097-a791-4a6f-87ad-d220c3bd4d24",
   "metadata": {},
   "outputs": [],
   "source": [
    "def create_user_df(username):\n",
    "    \"\"\"\n",
    "    Funcion que recopila la informacion de las\n",
    "    ultimas 10 publicaciones de una cuenta especifica.\n",
    "    \"\"\"\n",
    "    user = InstagramUser(username, from_cache=True)\n",
    "    likes=[] # Cantidad de likes\n",
    "    comments_count=[] # Cantidad de comentarios\n",
    "    shortcode=[] # Codigo de la publicacion\n",
    "    timestamp=[] # Fecha de publicacion\n",
    "    \n",
    "    for post in user.posts:\n",
    "        likes.append(post.likes)\n",
    "        comments_count.append(post.comments)\n",
    "        shortcode.append(post.shortcode)\n",
    "        timestamp.append(datetime.fromtimestamp(post.timestamp)) \n",
    "\n",
    "    df = pd.DataFrame(\n",
    "        list(\n",
    "            zip(shortcode, timestamp, likes, comments_count)\n",
    "        ),\n",
    "        columns=['shortcode', 'timestamp', 'likes', 'comments_count']\n",
    "    )\n",
    "    \n",
    "    df.insert(loc=0, column='username', value=username)\n",
    "    return df"
   ]
  },
  {
   "cell_type": "code",
   "execution_count": 4,
   "id": "4dcd96c7-6dda-4f06-988d-95033ab894c8",
   "metadata": {},
   "outputs": [],
   "source": [
    "# Creación primer df\n",
    "data = create_user_df('topman')\n",
    "# Lista de cuentas para hacer el analisis\n",
    "best_sellers = ['wholeplanet','mango','harrods','target']"
   ]
  },
  {
   "cell_type": "code",
   "execution_count": 5,
   "id": "c7d512a1-2466-483f-9457-af092f657549",
   "metadata": {},
   "outputs": [],
   "source": [
    "def concat_posts(users, df):\n",
    "    \"\"\"\n",
    "    Función para concatenar la información adquirida\n",
    "    para cada usuario\n",
    "    \"\"\"\n",
    "    for user in users:\n",
    "        df_new = create_user_df(user)\n",
    "        df = pd.concat([df,df_new])\n",
    "    return df"
   ]
  },
  {
   "cell_type": "code",
   "execution_count": 6,
   "id": "d25f9c80-e5a0-459f-bfbb-dcd50e67bb32",
   "metadata": {},
   "outputs": [],
   "source": [
    "data = concat_posts(best_sellers, data)"
   ]
  },
  {
   "cell_type": "code",
   "execution_count": 7,
   "id": "953b8489-d33b-48e0-a70e-47fc58933d8f",
   "metadata": {},
   "outputs": [],
   "source": [
    "def apply_sentiment(shortcode):\n",
    "    \"\"\"\n",
    "    Función para realizar el análisis de sentimientos\n",
    "    utilizando TextBlob\n",
    "    \"\"\"\n",
    "    # Se obtienen los primeros comentarios de la publicación\n",
    "    post = InstagramPost(shortcode, from_cache=True)\n",
    "    edges = post.post_data['edge_media_to_parent_comment']['edges']\n",
    "    comments = []\n",
    "    for edge in edges:\n",
    "        comments.append(edge['node']['text'])\n",
    "    # Se calcula la polaridad y subjetividad para cada comentario\n",
    "    polarity=[]\n",
    "    subjectivity=[]\n",
    "    for comment in comments:\n",
    "        test = TextBlob(comment)\n",
    "        pol = test.sentiment.polarity\n",
    "        sub = test.sentiment.subjectivity\n",
    "        # Si el comentario es neutral se ignora\n",
    "        if pol != 0:\n",
    "            polarity.append(pol)\n",
    "            subjectivity.append(sub)\n",
    "    if len(polarity) == 0:\n",
    "        return 0,0\n",
    "    # Se retorna el promedio de polaridad para la publicacion\n",
    "    # junto con la subjetividad\n",
    "    return np.mean(polarity), np.mean(subjectivity)\n",
    "    "
   ]
  },
  {
   "cell_type": "code",
   "execution_count": 8,
   "id": "42a00b2a-4ec9-4075-834b-a4194fc955a9",
   "metadata": {},
   "outputs": [],
   "source": [
    "# Calculamos la polaridad para todas las publicaciones\n",
    "data['polarity'] = data.apply(lambda row: apply_sentiment(row['shortcode'])[0], axis=1)"
   ]
  },
  {
   "cell_type": "code",
   "execution_count": 9,
   "id": "f0da5b6e-b38f-4069-b587-048c851fb17e",
   "metadata": {},
   "outputs": [],
   "source": [
    "# Calculamos la subjetividad para todas las publicaciones\n",
    "data['subjectivity'] = data.apply(lambda row: apply_sentiment(row['shortcode'])[1], axis=1)"
   ]
  },
  {
   "cell_type": "code",
   "execution_count": 10,
   "id": "4f36a92c-2493-47c1-bcd9-86ff5b2f8c9e",
   "metadata": {},
   "outputs": [
    {
     "data": {
      "text/html": [
       "<div>\n",
       "<style scoped>\n",
       "    .dataframe tbody tr th:only-of-type {\n",
       "        vertical-align: middle;\n",
       "    }\n",
       "\n",
       "    .dataframe tbody tr th {\n",
       "        vertical-align: top;\n",
       "    }\n",
       "\n",
       "    .dataframe thead th {\n",
       "        text-align: right;\n",
       "    }\n",
       "</style>\n",
       "<table border=\"1\" class=\"dataframe\">\n",
       "  <thead>\n",
       "    <tr style=\"text-align: right;\">\n",
       "      <th></th>\n",
       "      <th>username</th>\n",
       "      <th>shortcode</th>\n",
       "      <th>timestamp</th>\n",
       "      <th>likes</th>\n",
       "      <th>comments_count</th>\n",
       "      <th>polarity</th>\n",
       "      <th>subjectivity</th>\n",
       "    </tr>\n",
       "  </thead>\n",
       "  <tbody>\n",
       "    <tr>\n",
       "      <th>0</th>\n",
       "      <td>topman</td>\n",
       "      <td>CRwlZQBA3p6</td>\n",
       "      <td>2021-07-25 12:49:28</td>\n",
       "      <td>253</td>\n",
       "      <td>2</td>\n",
       "      <td>0.7</td>\n",
       "      <td>0.6</td>\n",
       "    </tr>\n",
       "    <tr>\n",
       "      <th>1</th>\n",
       "      <td>topman</td>\n",
       "      <td>CRtSGX7gFEU</td>\n",
       "      <td>2021-07-24 06:03:09</td>\n",
       "      <td>390</td>\n",
       "      <td>1</td>\n",
       "      <td>0.0</td>\n",
       "      <td>0.0</td>\n",
       "    </tr>\n",
       "    <tr>\n",
       "      <th>2</th>\n",
       "      <td>topman</td>\n",
       "      <td>CRq9WM3A0Ol</td>\n",
       "      <td>2021-07-23 08:23:20</td>\n",
       "      <td>775</td>\n",
       "      <td>1</td>\n",
       "      <td>0.0</td>\n",
       "      <td>0.0</td>\n",
       "    </tr>\n",
       "    <tr>\n",
       "      <th>3</th>\n",
       "      <td>topman</td>\n",
       "      <td>CRoplEgghxy</td>\n",
       "      <td>2021-07-22 10:52:07</td>\n",
       "      <td>929</td>\n",
       "      <td>2</td>\n",
       "      <td>0.6</td>\n",
       "      <td>1.0</td>\n",
       "    </tr>\n",
       "    <tr>\n",
       "      <th>4</th>\n",
       "      <td>topman</td>\n",
       "      <td>CRmC6jYgwhB</td>\n",
       "      <td>2021-07-21 10:35:47</td>\n",
       "      <td>860</td>\n",
       "      <td>2</td>\n",
       "      <td>0.7</td>\n",
       "      <td>0.6</td>\n",
       "    </tr>\n",
       "  </tbody>\n",
       "</table>\n",
       "</div>"
      ],
      "text/plain": [
       "  username    shortcode           timestamp  likes  comments_count  polarity  \\\n",
       "0   topman  CRwlZQBA3p6 2021-07-25 12:49:28    253               2       0.7   \n",
       "1   topman  CRtSGX7gFEU 2021-07-24 06:03:09    390               1       0.0   \n",
       "2   topman  CRq9WM3A0Ol 2021-07-23 08:23:20    775               1       0.0   \n",
       "3   topman  CRoplEgghxy 2021-07-22 10:52:07    929               2       0.6   \n",
       "4   topman  CRmC6jYgwhB 2021-07-21 10:35:47    860               2       0.7   \n",
       "\n",
       "   subjectivity  \n",
       "0           0.6  \n",
       "1           0.0  \n",
       "2           0.0  \n",
       "3           1.0  \n",
       "4           0.6  "
      ]
     },
     "execution_count": 10,
     "metadata": {},
     "output_type": "execute_result"
    }
   ],
   "source": [
    "data.head()"
   ]
  },
  {
   "cell_type": "code",
   "execution_count": 11,
   "id": "e35e8030-4e15-4563-9be8-cdb3c40c62dd",
   "metadata": {},
   "outputs": [],
   "source": [
    "def analyze_users_popularity_from_cache(usernames: list):\n",
    "    \"\"\" Functions return the required data to Analze Instagram users \"\"\"\n",
    "\n",
    "    followers = []\n",
    "    following = []\n",
    "    posts = []\n",
    "    for username in usernames:\n",
    "        user = InstagramUser(username, from_cache=True)\n",
    "        followers.append(user.number_of_followers)\n",
    "        following.append(user.number_of_followings)\n",
    "        posts.append(user.number_of_posts)\n",
    "    data = {\n",
    "        \"Usernames\": usernames,\n",
    "        \"Followers\": followers,\n",
    "        \"Following\": following,\n",
    "        \"Posts\": posts,\n",
    "    }\n",
    "    return data"
   ]
  },
  {
   "cell_type": "code",
   "execution_count": 12,
   "id": "496b8c5f-579a-4600-8cdc-6451b54e2065",
   "metadata": {},
   "outputs": [],
   "source": [
    "# Utilizamos el plugin para obtener los datos generales de las cuentas\n",
    "users = analyze_users_popularity_from_cache(best_sellers+['topman'])\n",
    "data_best_sellers = pd.DataFrame(users)"
   ]
  },
  {
   "cell_type": "code",
   "execution_count": 13,
   "id": "763f7199-dc6f-49b7-b46e-0e0495a9ce23",
   "metadata": {},
   "outputs": [
    {
     "data": {
      "text/html": [
       "<div>\n",
       "<style scoped>\n",
       "    .dataframe tbody tr th:only-of-type {\n",
       "        vertical-align: middle;\n",
       "    }\n",
       "\n",
       "    .dataframe tbody tr th {\n",
       "        vertical-align: top;\n",
       "    }\n",
       "\n",
       "    .dataframe thead th {\n",
       "        text-align: right;\n",
       "    }\n",
       "</style>\n",
       "<table border=\"1\" class=\"dataframe\">\n",
       "  <thead>\n",
       "    <tr style=\"text-align: right;\">\n",
       "      <th></th>\n",
       "      <th>Usernames</th>\n",
       "      <th>Followers</th>\n",
       "      <th>Following</th>\n",
       "      <th>Posts</th>\n",
       "    </tr>\n",
       "  </thead>\n",
       "  <tbody>\n",
       "    <tr>\n",
       "      <th>0</th>\n",
       "      <td>wholeplanet</td>\n",
       "      <td>13034</td>\n",
       "      <td>3544</td>\n",
       "      <td>857</td>\n",
       "    </tr>\n",
       "    <tr>\n",
       "      <th>1</th>\n",
       "      <td>mango</td>\n",
       "      <td>12348301</td>\n",
       "      <td>425</td>\n",
       "      <td>4666</td>\n",
       "    </tr>\n",
       "    <tr>\n",
       "      <th>2</th>\n",
       "      <td>harrods</td>\n",
       "      <td>1746455</td>\n",
       "      <td>247</td>\n",
       "      <td>8070</td>\n",
       "    </tr>\n",
       "    <tr>\n",
       "      <th>3</th>\n",
       "      <td>target</td>\n",
       "      <td>4567646</td>\n",
       "      <td>5092</td>\n",
       "      <td>1935</td>\n",
       "    </tr>\n",
       "    <tr>\n",
       "      <th>4</th>\n",
       "      <td>topman</td>\n",
       "      <td>746259</td>\n",
       "      <td>30</td>\n",
       "      <td>5134</td>\n",
       "    </tr>\n",
       "  </tbody>\n",
       "</table>\n",
       "</div>"
      ],
      "text/plain": [
       "     Usernames  Followers  Following  Posts\n",
       "0  wholeplanet      13034       3544    857\n",
       "1        mango   12348301        425   4666\n",
       "2      harrods    1746455        247   8070\n",
       "3       target    4567646       5092   1935\n",
       "4       topman     746259         30   5134"
      ]
     },
     "execution_count": 13,
     "metadata": {},
     "output_type": "execute_result"
    }
   ],
   "source": [
    "data_best_sellers.head()"
   ]
  },
  {
   "cell_type": "code",
   "execution_count": 14,
   "id": "cffb5aa2-8f8c-41d4-9945-4e9f1b7ba085",
   "metadata": {},
   "outputs": [],
   "source": [
    "def get_category(username):\n",
    "    \"\"\"\n",
    "    Función para obtener la categoría a la\n",
    "    que pertenece el usuario\n",
    "    \"\"\"\n",
    "    user = InstagramUser(username, from_cache=True) \n",
    "    return user.user_data['category_name']"
   ]
  },
  {
   "cell_type": "code",
   "execution_count": 15,
   "id": "7a9acfc4-9e8d-4b30-a8b3-55fcccc19fea",
   "metadata": {},
   "outputs": [],
   "source": [
    "# Se agregan las categorías a la tabla\n",
    "data_best_sellers['Category'] = data_best_sellers.apply(lambda row: get_category(row['Usernames']), axis = 1)"
   ]
  },
  {
   "cell_type": "code",
   "execution_count": 16,
   "id": "a9a22157-4f5e-47ad-bf3a-b4f09d01629f",
   "metadata": {},
   "outputs": [
    {
     "data": {
      "text/html": [
       "<div>\n",
       "<style scoped>\n",
       "    .dataframe tbody tr th:only-of-type {\n",
       "        vertical-align: middle;\n",
       "    }\n",
       "\n",
       "    .dataframe tbody tr th {\n",
       "        vertical-align: top;\n",
       "    }\n",
       "\n",
       "    .dataframe thead th {\n",
       "        text-align: right;\n",
       "    }\n",
       "</style>\n",
       "<table border=\"1\" class=\"dataframe\">\n",
       "  <thead>\n",
       "    <tr style=\"text-align: right;\">\n",
       "      <th></th>\n",
       "      <th>Usernames</th>\n",
       "      <th>Followers</th>\n",
       "      <th>Following</th>\n",
       "      <th>Posts</th>\n",
       "      <th>Category</th>\n",
       "    </tr>\n",
       "  </thead>\n",
       "  <tbody>\n",
       "    <tr>\n",
       "      <th>0</th>\n",
       "      <td>wholeplanet</td>\n",
       "      <td>13034</td>\n",
       "      <td>3544</td>\n",
       "      <td>857</td>\n",
       "      <td>None</td>\n",
       "    </tr>\n",
       "    <tr>\n",
       "      <th>1</th>\n",
       "      <td>mango</td>\n",
       "      <td>12348301</td>\n",
       "      <td>425</td>\n",
       "      <td>4666</td>\n",
       "      <td>Clothing (Brand)</td>\n",
       "    </tr>\n",
       "    <tr>\n",
       "      <th>2</th>\n",
       "      <td>harrods</td>\n",
       "      <td>1746455</td>\n",
       "      <td>247</td>\n",
       "      <td>8070</td>\n",
       "      <td>Shopping &amp; Retail</td>\n",
       "    </tr>\n",
       "    <tr>\n",
       "      <th>3</th>\n",
       "      <td>target</td>\n",
       "      <td>4567646</td>\n",
       "      <td>5092</td>\n",
       "      <td>1935</td>\n",
       "      <td>Shopping &amp; Retail</td>\n",
       "    </tr>\n",
       "    <tr>\n",
       "      <th>4</th>\n",
       "      <td>topman</td>\n",
       "      <td>746259</td>\n",
       "      <td>30</td>\n",
       "      <td>5134</td>\n",
       "      <td>None</td>\n",
       "    </tr>\n",
       "  </tbody>\n",
       "</table>\n",
       "</div>"
      ],
      "text/plain": [
       "     Usernames  Followers  Following  Posts           Category\n",
       "0  wholeplanet      13034       3544    857               None\n",
       "1        mango   12348301        425   4666   Clothing (Brand)\n",
       "2      harrods    1746455        247   8070  Shopping & Retail\n",
       "3       target    4567646       5092   1935  Shopping & Retail\n",
       "4       topman     746259         30   5134               None"
      ]
     },
     "execution_count": 16,
     "metadata": {},
     "output_type": "execute_result"
    }
   ],
   "source": [
    "data_best_sellers.head(10)"
   ]
  },
  {
   "cell_type": "code",
   "execution_count": 17,
   "id": "5136b8c9-fe74-48ac-929e-77e7c1594a95",
   "metadata": {},
   "outputs": [],
   "source": [
    "# Unión de todos los datos\n",
    "data_completed = data.set_index('username').join(data_best_sellers.set_index('Usernames'))"
   ]
  },
  {
   "cell_type": "code",
   "execution_count": 18,
   "id": "e1d1d68f-d140-4952-ac62-fb22c1ec4aa3",
   "metadata": {},
   "outputs": [
    {
     "data": {
      "text/html": [
       "<div>\n",
       "<style scoped>\n",
       "    .dataframe tbody tr th:only-of-type {\n",
       "        vertical-align: middle;\n",
       "    }\n",
       "\n",
       "    .dataframe tbody tr th {\n",
       "        vertical-align: top;\n",
       "    }\n",
       "\n",
       "    .dataframe thead th {\n",
       "        text-align: right;\n",
       "    }\n",
       "</style>\n",
       "<table border=\"1\" class=\"dataframe\">\n",
       "  <thead>\n",
       "    <tr style=\"text-align: right;\">\n",
       "      <th></th>\n",
       "      <th>index</th>\n",
       "      <th>shortcode</th>\n",
       "      <th>timestamp</th>\n",
       "      <th>likes</th>\n",
       "      <th>comments_count</th>\n",
       "      <th>polarity</th>\n",
       "      <th>subjectivity</th>\n",
       "      <th>Followers</th>\n",
       "      <th>Following</th>\n",
       "      <th>Posts</th>\n",
       "      <th>Category</th>\n",
       "    </tr>\n",
       "  </thead>\n",
       "  <tbody>\n",
       "    <tr>\n",
       "      <th>0</th>\n",
       "      <td>harrods</td>\n",
       "      <td>CRvyZjcHPMy</td>\n",
       "      <td>2021-07-25 05:23:52</td>\n",
       "      <td>2516</td>\n",
       "      <td>17</td>\n",
       "      <td>0.604688</td>\n",
       "      <td>0.871875</td>\n",
       "      <td>1746455</td>\n",
       "      <td>247</td>\n",
       "      <td>8070</td>\n",
       "      <td>Shopping &amp; Retail</td>\n",
       "    </tr>\n",
       "    <tr>\n",
       "      <th>1</th>\n",
       "      <td>harrods</td>\n",
       "      <td>CRtEPtUHrVW</td>\n",
       "      <td>2021-07-24 04:02:05</td>\n",
       "      <td>4491</td>\n",
       "      <td>67</td>\n",
       "      <td>0.468750</td>\n",
       "      <td>0.662500</td>\n",
       "      <td>1746455</td>\n",
       "      <td>247</td>\n",
       "      <td>8070</td>\n",
       "      <td>Shopping &amp; Retail</td>\n",
       "    </tr>\n",
       "    <tr>\n",
       "      <th>2</th>\n",
       "      <td>harrods</td>\n",
       "      <td>CRrWjzfIP4y</td>\n",
       "      <td>2021-07-23 12:04:15</td>\n",
       "      <td>830</td>\n",
       "      <td>74</td>\n",
       "      <td>0.146667</td>\n",
       "      <td>0.760000</td>\n",
       "      <td>1746455</td>\n",
       "      <td>247</td>\n",
       "      <td>8070</td>\n",
       "      <td>Shopping &amp; Retail</td>\n",
       "    </tr>\n",
       "    <tr>\n",
       "      <th>3</th>\n",
       "      <td>harrods</td>\n",
       "      <td>CRquizLHtlV</td>\n",
       "      <td>2021-07-23 06:13:59</td>\n",
       "      <td>834</td>\n",
       "      <td>13</td>\n",
       "      <td>1.000000</td>\n",
       "      <td>1.000000</td>\n",
       "      <td>1746455</td>\n",
       "      <td>247</td>\n",
       "      <td>8070</td>\n",
       "      <td>Shopping &amp; Retail</td>\n",
       "    </tr>\n",
       "    <tr>\n",
       "      <th>4</th>\n",
       "      <td>harrods</td>\n",
       "      <td>CRo-wFCHD1K</td>\n",
       "      <td>2021-07-22 13:57:19</td>\n",
       "      <td>936</td>\n",
       "      <td>12</td>\n",
       "      <td>0.380000</td>\n",
       "      <td>0.480000</td>\n",
       "      <td>1746455</td>\n",
       "      <td>247</td>\n",
       "      <td>8070</td>\n",
       "      <td>Shopping &amp; Retail</td>\n",
       "    </tr>\n",
       "    <tr>\n",
       "      <th>5</th>\n",
       "      <td>harrods</td>\n",
       "      <td>CRoceBuIDH_</td>\n",
       "      <td>2021-07-22 08:57:34</td>\n",
       "      <td>1419</td>\n",
       "      <td>15</td>\n",
       "      <td>0.459375</td>\n",
       "      <td>0.768750</td>\n",
       "      <td>1746455</td>\n",
       "      <td>247</td>\n",
       "      <td>8070</td>\n",
       "      <td>Shopping &amp; Retail</td>\n",
       "    </tr>\n",
       "    <tr>\n",
       "      <th>6</th>\n",
       "      <td>harrods</td>\n",
       "      <td>CRmGEenI2qz</td>\n",
       "      <td>2021-07-21 11:03:21</td>\n",
       "      <td>3923</td>\n",
       "      <td>21</td>\n",
       "      <td>0.492857</td>\n",
       "      <td>0.814286</td>\n",
       "      <td>1746455</td>\n",
       "      <td>247</td>\n",
       "      <td>8070</td>\n",
       "      <td>Shopping &amp; Retail</td>\n",
       "    </tr>\n",
       "    <tr>\n",
       "      <th>7</th>\n",
       "      <td>harrods</td>\n",
       "      <td>CRjijNBIeSM</td>\n",
       "      <td>2021-07-20 11:14:29</td>\n",
       "      <td>1500</td>\n",
       "      <td>14</td>\n",
       "      <td>0.750000</td>\n",
       "      <td>0.800000</td>\n",
       "      <td>1746455</td>\n",
       "      <td>247</td>\n",
       "      <td>8070</td>\n",
       "      <td>Shopping &amp; Retail</td>\n",
       "    </tr>\n",
       "    <tr>\n",
       "      <th>8</th>\n",
       "      <td>harrods</td>\n",
       "      <td>CRi4epgnEb7</td>\n",
       "      <td>2021-07-20 05:06:52</td>\n",
       "      <td>1501</td>\n",
       "      <td>11</td>\n",
       "      <td>0.550000</td>\n",
       "      <td>1.000000</td>\n",
       "      <td>1746455</td>\n",
       "      <td>247</td>\n",
       "      <td>8070</td>\n",
       "      <td>Shopping &amp; Retail</td>\n",
       "    </tr>\n",
       "    <tr>\n",
       "      <th>9</th>\n",
       "      <td>harrods</td>\n",
       "      <td>CRg8XwioYjk</td>\n",
       "      <td>2021-07-19 11:02:24</td>\n",
       "      <td>4966</td>\n",
       "      <td>69</td>\n",
       "      <td>0.556250</td>\n",
       "      <td>0.675000</td>\n",
       "      <td>1746455</td>\n",
       "      <td>247</td>\n",
       "      <td>8070</td>\n",
       "      <td>Shopping &amp; Retail</td>\n",
       "    </tr>\n",
       "  </tbody>\n",
       "</table>\n",
       "</div>"
      ],
      "text/plain": [
       "     index    shortcode           timestamp  likes  comments_count  polarity  \\\n",
       "0  harrods  CRvyZjcHPMy 2021-07-25 05:23:52   2516              17  0.604688   \n",
       "1  harrods  CRtEPtUHrVW 2021-07-24 04:02:05   4491              67  0.468750   \n",
       "2  harrods  CRrWjzfIP4y 2021-07-23 12:04:15    830              74  0.146667   \n",
       "3  harrods  CRquizLHtlV 2021-07-23 06:13:59    834              13  1.000000   \n",
       "4  harrods  CRo-wFCHD1K 2021-07-22 13:57:19    936              12  0.380000   \n",
       "5  harrods  CRoceBuIDH_ 2021-07-22 08:57:34   1419              15  0.459375   \n",
       "6  harrods  CRmGEenI2qz 2021-07-21 11:03:21   3923              21  0.492857   \n",
       "7  harrods  CRjijNBIeSM 2021-07-20 11:14:29   1500              14  0.750000   \n",
       "8  harrods  CRi4epgnEb7 2021-07-20 05:06:52   1501              11  0.550000   \n",
       "9  harrods  CRg8XwioYjk 2021-07-19 11:02:24   4966              69  0.556250   \n",
       "\n",
       "   subjectivity  Followers  Following  Posts           Category  \n",
       "0      0.871875    1746455        247   8070  Shopping & Retail  \n",
       "1      0.662500    1746455        247   8070  Shopping & Retail  \n",
       "2      0.760000    1746455        247   8070  Shopping & Retail  \n",
       "3      1.000000    1746455        247   8070  Shopping & Retail  \n",
       "4      0.480000    1746455        247   8070  Shopping & Retail  \n",
       "5      0.768750    1746455        247   8070  Shopping & Retail  \n",
       "6      0.814286    1746455        247   8070  Shopping & Retail  \n",
       "7      0.800000    1746455        247   8070  Shopping & Retail  \n",
       "8      1.000000    1746455        247   8070  Shopping & Retail  \n",
       "9      0.675000    1746455        247   8070  Shopping & Retail  "
      ]
     },
     "execution_count": 18,
     "metadata": {},
     "output_type": "execute_result"
    }
   ],
   "source": [
    "data_completed = data_completed.reset_index()\n",
    "data_completed.head(10)"
   ]
  },
  {
   "cell_type": "code",
   "execution_count": 19,
   "id": "adf26575-05a6-4204-9375-4cd791bf7978",
   "metadata": {},
   "outputs": [
    {
     "name": "stdout",
     "output_type": "stream",
     "text": [
      "<class 'pandas.core.frame.DataFrame'>\n",
      "RangeIndex: 60 entries, 0 to 59\n",
      "Data columns (total 11 columns):\n",
      " #   Column          Non-Null Count  Dtype         \n",
      "---  ------          --------------  -----         \n",
      " 0   index           60 non-null     object        \n",
      " 1   shortcode       60 non-null     object        \n",
      " 2   timestamp       60 non-null     datetime64[ns]\n",
      " 3   likes           60 non-null     int64         \n",
      " 4   comments_count  60 non-null     int64         \n",
      " 5   polarity        60 non-null     float64       \n",
      " 6   subjectivity    60 non-null     float64       \n",
      " 7   Followers       60 non-null     int64         \n",
      " 8   Following       60 non-null     int64         \n",
      " 9   Posts           60 non-null     int64         \n",
      " 10  Category        36 non-null     object        \n",
      "dtypes: datetime64[ns](1), float64(2), int64(5), object(3)\n",
      "memory usage: 5.3+ KB\n"
     ]
    }
   ],
   "source": [
    "data_completed.info()"
   ]
  },
  {
   "cell_type": "code",
   "execution_count": 20,
   "id": "ef6f35e8-9285-4a84-8f55-5ab42c571f96",
   "metadata": {},
   "outputs": [],
   "source": [
    "# Se calculan el promedio de likes para definir \n",
    "# cuáles son las mejores cuentas para mostrar\n",
    "# los resultados\n",
    "means = []\n",
    "for account in best_sellers+['topman']:\n",
    "    filt = data_completed.loc[data_completed['index'] == account]\n",
    "    mean_likes = np.mean(filt['likes'])\n",
    "    means.append([mean_likes, account])\n",
    "means.sort(reverse=True)"
   ]
  },
  {
   "cell_type": "code",
   "execution_count": 21,
   "id": "3f9fbaf7-d450-4a96-982d-32546ea07248",
   "metadata": {},
   "outputs": [
    {
     "data": {
      "text/plain": [
       "[[24396.5, 'target'],\n",
       " [7912.333333333333, 'mango'],\n",
       " [2407.5, 'harrods'],\n",
       " [1027.6666666666667, 'topman'],\n",
       " [48.833333333333336, 'wholeplanet']]"
      ]
     },
     "execution_count": 21,
     "metadata": {},
     "output_type": "execute_result"
    }
   ],
   "source": [
    "means"
   ]
  },
  {
   "cell_type": "code",
   "execution_count": 22,
   "id": "63e7cedd-ca6d-47f3-ad90-9dd3e1b5e787",
   "metadata": {},
   "outputs": [
    {
     "data": {
      "image/png": "[encoded data removed]",
      "text/plain": [
       "<Figure size 432x288 with 1 Axes>"
      ]
     },
     "metadata": {
      "needs_background": "light"
     },
     "output_type": "display_data"
    }
   ],
   "source": [
    "plt.plot(data_best_sellers.set_index('Usernames')['Followers']);\n",
    "plt.xticks(rotation = 50);\n",
    "plt.title('Comparación de cuentas por cantidad de seguidores');"
   ]
  },
  {
   "cell_type": "code",
   "execution_count": 23,
   "id": "029a02fb-6304-4a5c-8a6c-80c19364cd51",
   "metadata": {},
   "outputs": [
    {
     "data": {
      "image/png": "[encoded data removed]",
      "text/plain": [
       "<Figure size 432x288 with 1 Axes>"
      ]
     },
     "metadata": {
      "needs_background": "light"
     },
     "output_type": "display_data"
    }
   ],
   "source": [
    "plt.plot(data_best_sellers.set_index('Usernames')['Posts']);\n",
    "plt.xticks(rotation = 50);\n",
    "plt.title('Comparación de cuentas por cantidad de publicaciones');"
   ]
  },
  {
   "cell_type": "code",
   "execution_count": 24,
   "id": "c8cac1a3-cb03-4118-b729-da2a2b443188",
   "metadata": {},
   "outputs": [],
   "source": [
    "# Se toman los datos especificos de Target\n",
    "target = data_completed.loc[data_completed['index'] == 'target']"
   ]
  },
  {
   "cell_type": "code",
   "execution_count": 25,
   "id": "902c616d-7f27-4ce7-9a03-13fb64e5e85c",
   "metadata": {},
   "outputs": [
    {
     "data": {
      "text/html": [
       "<div>\n",
       "<style scoped>\n",
       "    .dataframe tbody tr th:only-of-type {\n",
       "        vertical-align: middle;\n",
       "    }\n",
       "\n",
       "    .dataframe tbody tr th {\n",
       "        vertical-align: top;\n",
       "    }\n",
       "\n",
       "    .dataframe thead th {\n",
       "        text-align: right;\n",
       "    }\n",
       "</style>\n",
       "<table border=\"1\" class=\"dataframe\">\n",
       "  <thead>\n",
       "    <tr style=\"text-align: right;\">\n",
       "      <th></th>\n",
       "      <th>index</th>\n",
       "      <th>shortcode</th>\n",
       "      <th>timestamp</th>\n",
       "      <th>likes</th>\n",
       "      <th>comments_count</th>\n",
       "      <th>polarity</th>\n",
       "      <th>subjectivity</th>\n",
       "      <th>Followers</th>\n",
       "      <th>Following</th>\n",
       "      <th>Posts</th>\n",
       "      <th>Category</th>\n",
       "    </tr>\n",
       "  </thead>\n",
       "  <tbody>\n",
       "    <tr>\n",
       "      <th>24</th>\n",
       "      <td>target</td>\n",
       "      <td>CRwoK6bglck</td>\n",
       "      <td>2021-07-25 13:14:28</td>\n",
       "      <td>1365</td>\n",
       "      <td>12</td>\n",
       "      <td>0.175000</td>\n",
       "      <td>0.325000</td>\n",
       "      <td>4567646</td>\n",
       "      <td>5092</td>\n",
       "      <td>1935</td>\n",
       "      <td>Shopping &amp; Retail</td>\n",
       "    </tr>\n",
       "    <tr>\n",
       "      <th>25</th>\n",
       "      <td>target</td>\n",
       "      <td>CRt2XLvAaY8</td>\n",
       "      <td>2021-07-24 11:25:29</td>\n",
       "      <td>7015</td>\n",
       "      <td>136</td>\n",
       "      <td>0.316005</td>\n",
       "      <td>0.618915</td>\n",
       "      <td>4567646</td>\n",
       "      <td>5092</td>\n",
       "      <td>1935</td>\n",
       "      <td>Shopping &amp; Retail</td>\n",
       "    </tr>\n",
       "    <tr>\n",
       "      <th>26</th>\n",
       "      <td>target</td>\n",
       "      <td>CRrVh-fgHOA</td>\n",
       "      <td>2021-07-23 11:55:27</td>\n",
       "      <td>60688</td>\n",
       "      <td>1296</td>\n",
       "      <td>0.487388</td>\n",
       "      <td>0.643065</td>\n",
       "      <td>4567646</td>\n",
       "      <td>5092</td>\n",
       "      <td>1935</td>\n",
       "      <td>Shopping &amp; Retail</td>\n",
       "    </tr>\n",
       "    <tr>\n",
       "      <th>27</th>\n",
       "      <td>target</td>\n",
       "      <td>CRpPa4HAhFz</td>\n",
       "      <td>2021-07-22 16:23:35</td>\n",
       "      <td>2253</td>\n",
       "      <td>36</td>\n",
       "      <td>0.421205</td>\n",
       "      <td>0.650298</td>\n",
       "      <td>4567646</td>\n",
       "      <td>5092</td>\n",
       "      <td>1935</td>\n",
       "      <td>Shopping &amp; Retail</td>\n",
       "    </tr>\n",
       "    <tr>\n",
       "      <th>28</th>\n",
       "      <td>target</td>\n",
       "      <td>CRmISXxg1RZ</td>\n",
       "      <td>2021-07-21 11:22:53</td>\n",
       "      <td>6710</td>\n",
       "      <td>349</td>\n",
       "      <td>0.511752</td>\n",
       "      <td>0.681250</td>\n",
       "      <td>4567646</td>\n",
       "      <td>5092</td>\n",
       "      <td>1935</td>\n",
       "      <td>Shopping &amp; Retail</td>\n",
       "    </tr>\n",
       "  </tbody>\n",
       "</table>\n",
       "</div>"
      ],
      "text/plain": [
       "     index    shortcode           timestamp  likes  comments_count  polarity  \\\n",
       "24  target  CRwoK6bglck 2021-07-25 13:14:28   1365              12  0.175000   \n",
       "25  target  CRt2XLvAaY8 2021-07-24 11:25:29   7015             136  0.316005   \n",
       "26  target  CRrVh-fgHOA 2021-07-23 11:55:27  60688            1296  0.487388   \n",
       "27  target  CRpPa4HAhFz 2021-07-22 16:23:35   2253              36  0.421205   \n",
       "28  target  CRmISXxg1RZ 2021-07-21 11:22:53   6710             349  0.511752   \n",
       "\n",
       "    subjectivity  Followers  Following  Posts           Category  \n",
       "24      0.325000    4567646       5092   1935  Shopping & Retail  \n",
       "25      0.618915    4567646       5092   1935  Shopping & Retail  \n",
       "26      0.643065    4567646       5092   1935  Shopping & Retail  \n",
       "27      0.650298    4567646       5092   1935  Shopping & Retail  \n",
       "28      0.681250    4567646       5092   1935  Shopping & Retail  "
      ]
     },
     "execution_count": 25,
     "metadata": {},
     "output_type": "execute_result"
    }
   ],
   "source": [
    "target.head()"
   ]
  },
  {
   "cell_type": "code",
   "execution_count": 26,
   "id": "0eb8378c-a7b6-4649-a16d-c90847407b80",
   "metadata": {},
   "outputs": [
    {
     "data": {
      "image/png": "[encoded data removed]",
      "text/plain": [
       "<Figure size 432x288 with 1 Axes>"
      ]
     },
     "metadata": {
      "needs_background": "light"
     },
     "output_type": "display_data"
    }
   ],
   "source": [
    "plt.plot(target['polarity']);\n",
    "plt.plot(target['subjectivity']);\n",
    "plt.legend(['Polarity', 'Subjectivity']);\n",
    "plt.title('Polaridad y subjetividad para Target');\n",
    "plt.savefig('targer.png')"
   ]
  },
  {
   "cell_type": "code",
   "execution_count": 27,
   "id": "369181cc-c466-45e6-97cb-ae3ec58409f5",
   "metadata": {},
   "outputs": [
    {
     "data": {
      "image/png": "[encoded data removed]",
      "text/plain": [
       "<Figure size 432x288 with 1 Axes>"
      ]
     },
     "metadata": {
      "needs_background": "light"
     },
     "output_type": "display_data"
    }
   ],
   "source": [
    "# Se toman los datos especificos de Mango\n",
    "mango = data_completed.loc[data_completed['index'] == 'mango']\n",
    "plt.plot(mango['polarity']);\n",
    "plt.plot(mango['subjectivity']);\n",
    "plt.legend(['Polarity', 'Subjectivity']);\n",
    "plt.title('Polaridad y subjetividad para Mango');\n",
    "plt.savefig('Mango.png')"
   ]
  }
 ],
 "metadata": {
  "kernelspec": {
   "display_name": "Python 3 (ipykernel)",
   "language": "python",
   "name": "python3"
  },
  "language_info": {
   "codemirror_mode": {
    "name": "ipython",
    "version": 3
   },
   "file_extension": ".py",
   "mimetype": "text/x-python",
   "name": "python",
   "nbconvert_exporter": "python",
   "pygments_lexer": "ipython3",
   "version": "3.9.6"
  }
 },
 "nbformat": 4,
 "nbformat_minor": 5
}
